{
 "cells": [
  {
   "cell_type": "markdown",
   "metadata": {
    "collapsed": true,
    "pycharm": {
     "name": "#%% md\n"
    }
   },
   "source": [
    "# Verification\n",
    "In the following, the four steps will be performed to make sure the model and its agents\n",
    "performs all tasks as they are supposed to do."
   ]
  },
  {
   "cell_type": "code",
   "execution_count": 19,
   "outputs": [],
   "source": [
    "import pandas as pd"
   ],
   "metadata": {
    "collapsed": false,
    "pycharm": {
     "name": "#%%\n"
    }
   }
  },
  {
   "cell_type": "markdown",
   "source": [
    "## 1. Recoding and tracking agent behaviour\n",
    "In the following, one instance of each agent will be initiated. Internal functions\n",
    "will be tested and it will be insured that they function correctly.\n",
    "\n",
    "### Households\n",
    "Importing and initiating an object of the household class."
   ],
   "metadata": {
    "collapsed": false,
    "pycharm": {
     "name": "#%% md\n"
    }
   }
  },
  {
   "cell_type": "code",
   "execution_count": 3,
   "outputs": [],
   "source": [
    "from Household import Household"
   ],
   "metadata": {
    "collapsed": false,
    "pycharm": {
     "name": "#%%\n"
    }
   }
  },
  {
   "cell_type": "markdown",
   "source": [
    "Initiation of the model:"
   ],
   "metadata": {
    "collapsed": false,
    "pycharm": {
     "name": "#%% md\n"
    }
   }
  },
  {
   "cell_type": "code",
   "execution_count": 6,
   "outputs": [],
   "source": [
    "household_id = 'H1'\n",
    "model = None\n",
    "househould_type = 'one_person'\n",
    "perception = 0.5\n",
    "knowledge = 0.6\n",
    "\n",
    "single_household = Household(household_id, model, househould_type, perception, knowledge)"
   ],
   "metadata": {
    "collapsed": false,
    "pycharm": {
     "name": "#%%\n"
    }
   }
  },
  {
   "cell_type": "markdown",
   "source": [
    "Print all current attributes"
   ],
   "metadata": {
    "collapsed": false,
    "pycharm": {
     "name": "#%% md\n"
    }
   }
  },
  {
   "cell_type": "code",
   "execution_count": 7,
   "outputs": [
    {
     "name": "stdout",
     "output_type": "stream",
     "text": [
      "ID: M1\n",
      "Type: one_person\n",
      "Perception: 0.5\n",
      "Knowledge: 0.6\n"
     ]
    }
   ],
   "source": [
    "print('ID: {}'.format(single_household.unique_id))\n",
    "print('Type: {}'.format(single_household.type))\n",
    "print('Perception: {}'.format(single_household.perception))\n",
    "print('Knowledge: {}'.format(single_household.knowledge))"
   ],
   "metadata": {
    "collapsed": false,
    "pycharm": {
     "name": "#%%\n"
    }
   }
  },
  {
   "cell_type": "markdown",
   "source": [
    "The output is as expected. The initialization works.\n",
    "Now all functions will be executed in the order as they appear in the code.\n",
    "All function are internal processes."
   ],
   "metadata": {
    "collapsed": false,
    "pycharm": {
     "name": "#%% md\n"
    }
   }
  },
  {
   "cell_type": "markdown",
   "source": [
    "starting_val calculates the starting value of the base waste. For single households it is\n",
    "supposed to be 40"
   ],
   "metadata": {
    "collapsed": false,
    "pycharm": {
     "name": "#%% md\n"
    }
   }
  },
  {
   "cell_type": "code",
   "execution_count": 9,
   "outputs": [
    {
     "data": {
      "text/plain": "40"
     },
     "execution_count": 9,
     "metadata": {},
     "output_type": "execute_result"
    }
   ],
   "source": [
    "single_household.starting_val(single_household.type)"
   ],
   "metadata": {
    "collapsed": false,
    "pycharm": {
     "name": "#%%\n"
    }
   }
  },
  {
   "cell_type": "markdown",
   "source": [
    "Households entailing more people (e.g. families) produce 2.85 times more waste."
   ],
   "metadata": {
    "collapsed": false,
    "pycharm": {
     "name": "#%% md\n"
    }
   }
  },
  {
   "cell_type": "code",
   "execution_count": 11,
   "outputs": [
    {
     "data": {
      "text/plain": "2.85"
     },
     "execution_count": 11,
     "metadata": {},
     "output_type": "execute_result"
    }
   ],
   "source": [
    "family_household = Household(household_id, model, 'multi_person', perception, knowledge)\n",
    "family_household.starting_val(family_household.type) /40"
   ],
   "metadata": {
    "collapsed": false,
    "pycharm": {
     "name": "#%%\n"
    }
   }
  },
  {
   "cell_type": "markdown",
   "source": [
    "Both households produce the right amount of base waste as starting value.\n",
    "Next the calculation of base waste is tested. The function requires the current tick as input."
   ],
   "metadata": {
    "collapsed": false,
    "pycharm": {
     "name": "#%% md\n"
    }
   }
  },
  {
   "cell_type": "code",
   "execution_count": 17,
   "outputs": [
    {
     "name": "stdout",
     "output_type": "stream",
     "text": [
      "Single household base waste: 40.0\n",
      "Family household base waste: 114.0\n"
     ]
    }
   ],
   "source": [
    "single_household.calc_starting_val() # Calculation of starting value\n",
    "single_household.calc_base_waste(0)\n",
    "print('Single household base waste: {}'.format(single_household.base_waste))\n",
    "#\n",
    "family_household.calc_starting_val()\n",
    "family_household.calc_base_waste(0)\n",
    "print('Family household base waste: {}'.format(family_household.base_waste))\n"
   ],
   "metadata": {
    "collapsed": false,
    "pycharm": {
     "name": "#%%\n"
    }
   }
  },
  {
   "cell_type": "markdown",
   "source": [
    "The following graph shows the development of the base waste over time."
   ],
   "metadata": {
    "collapsed": false,
    "pycharm": {
     "name": "#%% md\n"
    }
   }
  },
  {
   "cell_type": "code",
   "execution_count": 21,
   "outputs": [
    {
     "data": {
      "text/plain": "<AxesSubplot:>"
     },
     "execution_count": 21,
     "metadata": {},
     "output_type": "execute_result"
    },
    {
     "data": {
      "text/plain": "<Figure size 432x288 with 1 Axes>",
      "image/png": "[encoded data removed]"
     },
     "metadata": {
      "needs_background": "light"
     },
     "output_type": "display_data"
    }
   ],
   "source": [
    "base_waste_df = pd.DataFrame()\n",
    "base_waste_singel = []\n",
    "base_waste_family = []\n",
    "for i in range(301):\n",
    "    single_household.calc_base_waste(i)\n",
    "    base_waste_singel.append(single_household.base_waste)\n",
    "\n",
    "    family_household.calc_base_waste(i)\n",
    "    base_waste_family.append((family_household.base_waste))\n",
    "\n",
    "base_waste_df['Single'] = base_waste_singel\n",
    "base_waste_df['Family'] = base_waste_family\n",
    "\n",
    "base_waste_df.plot()"
   ],
   "metadata": {
    "collapsed": false,
    "pycharm": {
     "name": "#%%\n"
    }
   }
  },
  {
   "cell_type": "markdown",
   "source": [
    "The y-axis shows the base waste, the x-axis the ticks. The behavior is as expected.\n",
    "The calculation of the plastic waste is the product of the base waste, the plastic share in\n",
    "the base waste ($20\\%$) and the individual knowledge and perception. Hence, the expected values are:"
   ],
   "metadata": {
    "collapsed": false,
    "pycharm": {
     "name": "#%% md\n"
    }
   }
  },
  {
   "cell_type": "code",
   "execution_count": null,
   "outputs": [],
   "source": [],
   "metadata": {
    "collapsed": false,
    "pycharm": {
     "name": "#%%\n"
    }
   }
  }
 ],
 "metadata": {
  "kernelspec": {
   "name": "pycharm-c37fe983",
   "language": "python",
   "display_name": "PyCharm (ABM_Assignment)"
  },
  "language_info": {
   "codemirror_mode": {
    "name": "ipython",
    "version": 2
   },
   "file_extension": ".py",
   "mimetype": "text/x-python",
   "name": "python",
   "nbconvert_exporter": "python",
   "pygments_lexer": "ipython2",
   "version": "2.7.6"
  }
 },
 "nbformat": 4,
 "nbformat_minor": 0
}