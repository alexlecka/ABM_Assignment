{
 "cells": [
  {
   "cell_type": "markdown",
   "metadata": {
    "collapsed": true,
    "pycharm": {
     "name": "#%% md\n"
    }
   },
   "source": [
    "# Verification\n",
    "In the following, the four steps recording and tracing agent behaviour, single-agent testing,\n",
    " interaction testing in minimal model, and multi-agent testing will be\n",
    " performed to ensure the model and its agents\n",
    "performs all tasks as they are supposed to do.\n"
   ]
  },
  {
   "cell_type": "code",
   "execution_count": 1,
   "outputs": [],
   "source": [
    "# Import of neede packages, classes and the model\n",
    "import pandas as pd\n",
    "from Household import Household\n",
    "from RecyclingCompany import RecyclingCompany\n",
    "from Municipality import Municipality\n",
    "from main import ABM_model"
   ],
   "metadata": {
    "collapsed": false,
    "pycharm": {
     "name": "#%%\n"
    }
   }
  },
  {
   "cell_type": "markdown",
   "source": [
    "## 1. Recoding and tracking agent behaviour\n",
    "In this section, one instance of each agent will be initiated. Internal functions\n",
    "will be tested to ensure they function correctly.\n",
    "\n",
    "### 1.1 Households\n",
    "Firstly, a single household is initiated with the following settings:"
   ],
   "metadata": {
    "collapsed": false,
    "pycharm": {
     "name": "#%% md\n"
    }
   }
  },
  {
   "cell_type": "code",
   "execution_count": 2,
   "outputs": [],
   "source": [
    "household_id = 'H1'\n",
    "model = None\n",
    "househould_type = 'one_person'\n",
    "perception = 0.5\n",
    "knowledge = 0.6\n",
    "\n",
    "single_household = Household(household_id, model, househould_type, perception, knowledge)"
   ],
   "metadata": {
    "collapsed": false,
    "pycharm": {
     "name": "#%%\n"
    }
   }
  },
  {
   "cell_type": "markdown",
   "source": [
    "All initiated attributes are printed to be compared."
   ],
   "metadata": {
    "collapsed": false,
    "pycharm": {
     "name": "#%% md\n"
    }
   }
  },
  {
   "cell_type": "code",
   "execution_count": 3,
   "outputs": [
    {
     "name": "stdout",
     "output_type": "stream",
     "text": [
      "ID: H1\n",
      "Type: one_person\n",
      "Perception: 0.5\n",
      "Knowledge: 0.6\n"
     ]
    }
   ],
   "source": [
    "print('ID: {}'.format(single_household.unique_id))\n",
    "print('Type: {}'.format(single_household.type))\n",
    "print('Perception: {}'.format(single_household.perception))\n",
    "print('Knowledge: {}'.format(single_household.knowledge))"
   ],
   "metadata": {
    "collapsed": false,
    "pycharm": {
     "name": "#%%\n"
    }
   }
  },
  {
   "cell_type": "markdown",
   "source": [
    "The output is as expected meaning the initialization works <br>\n",
    "Now all functions will be executed in the order as they appear in the code.\n",
    "All functions of the Household class are internal processes which do not affect other agents.\n"
   ],
   "metadata": {
    "collapsed": false,
    "pycharm": {
     "name": "#%% md\n"
    }
   }
  },
  {
   "cell_type": "markdown",
   "source": [
    "The function starting_val calculates the starting value of the base waste. For single households it is\n",
    "supposed to be 40.\n"
   ],
   "metadata": {
    "collapsed": false,
    "pycharm": {
     "name": "#%% md\n"
    }
   }
  },
  {
   "cell_type": "code",
   "execution_count": 4,
   "outputs": [
    {
     "data": {
      "text/plain": "40"
     },
     "execution_count": 4,
     "metadata": {},
     "output_type": "execute_result"
    }
   ],
   "source": [
    "single_household.starting_val(single_household.type)"
   ],
   "metadata": {
    "collapsed": false,
    "pycharm": {
     "name": "#%%\n"
    }
   }
  },
  {
   "cell_type": "markdown",
   "source": [
    "Households entailing more people (e.g. families) produce 2.85 times more waste."
   ],
   "metadata": {
    "collapsed": false,
    "pycharm": {
     "name": "#%% md\n"
    }
   }
  },
  {
   "cell_type": "code",
   "execution_count": 5,
   "outputs": [
    {
     "data": {
      "text/plain": "2.85"
     },
     "execution_count": 5,
     "metadata": {},
     "output_type": "execute_result"
    }
   ],
   "source": [
    "family_household = Household(household_id, model, 'multi_person', perception, knowledge)\n",
    "family_household.starting_val(family_household.type) /40"
   ],
   "metadata": {
    "collapsed": false,
    "pycharm": {
     "name": "#%%\n"
    }
   }
  },
  {
   "cell_type": "markdown",
   "source": [
    "Both households produce the right quantity of base waste as starting value.\n",
    "<br>Next, the calculation of base waste is tested. The function requires the current tick as input.\n"
   ],
   "metadata": {
    "collapsed": false,
    "pycharm": {
     "name": "#%% md\n"
    }
   }
  },
  {
   "cell_type": "code",
   "execution_count": 6,
   "outputs": [
    {
     "name": "stdout",
     "output_type": "stream",
     "text": [
      "Single household base waste: 40.0\n",
      "Family household base waste: 114.0\n"
     ]
    }
   ],
   "source": [
    "single_household.calc_starting_val() # Calculation of starting value\n",
    "single_household.calc_base_waste(0)\n",
    "print('Single household base waste: {}'.format(single_household.base_waste))\n",
    "#\n",
    "family_household.calc_starting_val()\n",
    "family_household.calc_base_waste(0)\n",
    "print('Family household base waste: {}'.format(family_household.base_waste))\n"
   ],
   "metadata": {
    "collapsed": false,
    "pycharm": {
     "name": "#%%\n"
    }
   }
  },
  {
   "cell_type": "markdown",
   "source": [
    "The following graph shows the development of the base waste over time."
   ],
   "metadata": {
    "collapsed": false,
    "pycharm": {
     "name": "#%% md\n"
    }
   }
  },
  {
   "cell_type": "code",
   "execution_count": 7,
   "outputs": [
    {
     "data": {
      "text/plain": "<AxesSubplot:>"
     },
     "execution_count": 7,
     "metadata": {},
     "output_type": "execute_result"
    },
    {
     "data": {
      "text/plain": "<Figure size 432x288 with 1 Axes>",
      "image/png": "[encoded data removed]"
     },
     "metadata": {
      "needs_background": "light"
     },
     "output_type": "display_data"
    }
   ],
   "source": [
    "base_waste_df = pd.DataFrame()\n",
    "base_waste_singel = []\n",
    "base_waste_family = []\n",
    "for i in range(301):\n",
    "    single_household.calc_base_waste(i)\n",
    "    base_waste_singel.append(single_household.base_waste)\n",
    "\n",
    "    family_household.calc_base_waste(i)\n",
    "    base_waste_family.append((family_household.base_waste))\n",
    "\n",
    "base_waste_df['Single'] = base_waste_singel\n",
    "base_waste_df['Family'] = base_waste_family\n",
    "\n",
    "base_waste_df.plot()"
   ],
   "metadata": {
    "collapsed": false,
    "pycharm": {
     "name": "#%%\n"
    }
   }
  },
  {
   "cell_type": "markdown",
   "source": [
    "The y-axis shows the base waste, the x-axis the ticks. The behaviour is as expected. <br>\n",
    "The calculation of the plastic waste is the product of the base waste, the plastic share in\n",
    "the base waste ($20\\%$) and the individual knowledge and perception. Hence, the expected values are:"
   ],
   "metadata": {
    "collapsed": false,
    "pycharm": {
     "name": "#%% md\n"
    }
   }
  },
  {
   "cell_type": "code",
   "execution_count": 8,
   "outputs": [
    {
     "name": "stdout",
     "output_type": "stream",
     "text": [
      "Expected for value single household: 2.4\n",
      "The result for single household is: 2.4\n"
     ]
    }
   ],
   "source": [
    "single_household.calc_base_waste(0)\n",
    "print('Expected for value single household: {}'.format(single_household.base_waste * 0.2 * knowledge * perception))\n",
    "single_household.calc_plastic_waste(0)\n",
    "print('The result for single household is: {}'.format(single_household.plastic_waste))"
   ],
   "metadata": {
    "collapsed": false,
    "pycharm": {
     "name": "#%%\n"
    }
   }
  },
  {
   "cell_type": "markdown",
   "source": [
    "Since this function is the same for both household types, there is no added value in executing it for the multiple people\n",
    "household. <br>Up to this point, all functions appear to work for in the class Household.\n",
    "\n"
   ],
   "metadata": {
    "collapsed": false,
    "pycharm": {
     "name": "#%% md\n"
    }
   }
  },
  {
   "cell_type": "markdown",
   "source": [
    "### 1.2 Municipality\n",
    "Firstly, the municipality will be initialized and it will be checked whether the attributes were initialized correctly."
   ],
   "metadata": {
    "collapsed": false,
    "pycharm": {
     "name": "#%% md\n"
    }
   }
  },
  {
   "cell_type": "code",
   "execution_count": 9,
   "outputs": [
    {
     "name": "stdout",
     "output_type": "stream",
     "text": [
      "ID: M1\n",
      "Population distribution: [10, 20]\n",
      "Initial recycling budget 1000\n",
      "Recycling target: 0.4\n",
      "Priority price over recycling 0.1\n"
     ]
    }
   ],
   "source": [
    "unique_id = 'M1'\n",
    "model = None\n",
    "population_distribution = [10, 20] # single households, family_households\n",
    "initial_recycling_budget = 1000\n",
    "recycling_target = 0.40\n",
    "priority_price_over_recycling = 0.1\n",
    "\n",
    "\n",
    "\n",
    "a_municipality = Municipality(unique_id, model, True, population_distribution, initial_recycling_budget,\n",
    "                              recycling_target, priority_price_over_recycling)\n",
    "\n",
    "print('ID: {}'.format(a_municipality.id))\n",
    "print('Population distribution: {}'.format(a_municipality.population_distribution))\n",
    "print('Initial recycling budget {}'.format(a_municipality.budget_plastic_recycling))\n",
    "print('Recycling target: {}'.format(a_municipality.recycling_target))\n",
    "print('Priority price over recycling {}'.format(a_municipality.priority_price_over_recycling))"
   ],
   "metadata": {
    "collapsed": false,
    "pycharm": {
     "name": "#%%\n"
    }
   }
  },
  {
   "cell_type": "markdown",
   "source": [
    "Besides those variables, other variables get initiated as an empty contract and specifications for policies.\n",
    "Further, the Municipality class implements the households by itself. Whether those are initiated correctly is checked in the following."
   ],
   "metadata": {
    "collapsed": false,
    "pycharm": {
     "name": "#%% md\n"
    }
   }
  },
  {
   "cell_type": "code",
   "execution_count": 10,
   "outputs": [
    {
     "name": "stdout",
     "output_type": "stream",
     "text": [
      "Number of households present: 30\n",
      "Type of object in list: <class 'Household.Household'>\n",
      "Single person households: 10\n",
      "Mulitple person househould: 20\n"
     ]
    }
   ],
   "source": [
    "print('Number of households present: {}'.format(len(a_municipality.households)))\n",
    "print('Type of object in list: {}'.format(type(a_municipality.households[1])))\n",
    "\n",
    "single_count = 0\n",
    "multi_count = 0\n",
    "for i in range(len(a_municipality.households)):\n",
    "    if a_municipality.households[i].type == 'one_person':\n",
    "        single_count +=1\n",
    "    elif a_municipality.households[i].type == 'multi_person':\n",
    "        multi_count += 1\n",
    "\n",
    "print('Single person households: {}'.format(single_count))\n",
    "print('Mulitple person househould: {}'.format(multi_count))"
   ],
   "metadata": {
    "collapsed": false,
    "pycharm": {
     "name": "#%%\n"
    }
   }
  },
  {
   "cell_type": "markdown",
   "source": [
    "The households appear to be initiated correctly. The first function to be investigated is request_offer.\n",
    "It is supposed to return a reference to the municipality (itself) if the municipality does not have\n",
    "a company to treat their waste. Since no connection to a company was initiated, it should return itself."
   ],
   "metadata": {
    "collapsed": false,
    "pycharm": {
     "name": "#%% md\n"
    }
   }
  },
  {
   "cell_type": "code",
   "execution_count": 11,
   "outputs": [
    {
     "data": {
      "text/plain": "True"
     },
     "execution_count": 11,
     "metadata": {},
     "output_type": "execute_result"
    }
   ],
   "source": [
    "a_municipality == a_municipality.request_offer(0)"
   ],
   "metadata": {
    "collapsed": false,
    "pycharm": {
     "name": "#%%\n"
    }
   }
  },
  {
   "cell_type": "markdown",
   "source": [
    "If the municipality has an ongoing contract with a recycling company,\n",
    "the attribute contract holds an entry ‘active = True’. The function request_offer is\n",
    "supposed to return ‘None’ if the contract did not expire."
   ],
   "metadata": {
    "collapsed": false,
    "pycharm": {
     "name": "#%% md\n"
    }
   }
  },
  {
   "cell_type": "code",
   "execution_count": 12,
   "outputs": [
    {
     "name": "stdout",
     "output_type": "stream",
     "text": [
      "None\n"
     ]
    }
   ],
   "source": [
    "a_recycling_company = RecyclingCompany('R1', None)\n",
    "a_municipality.contract['active'] = True\n",
    "a_municipality.contract['recycling_company'] = a_recycling_company\n",
    "a_municipality.contract['expiration_tick'] = 10\n",
    "\n",
    "print(a_municipality.request_offer(9))"
   ],
   "metadata": {
    "collapsed": false,
    "pycharm": {
     "name": "#%%\n"
    }
   }
  },
  {
   "cell_type": "markdown",
   "source": [
    "If the expiration tick (time at which the contract ends) is reached, the function supposed to return itself\n",
    " (the municipality) and to set the 'active' entry in the contract attribute to false."
   ],
   "metadata": {
    "collapsed": false,
    "pycharm": {
     "name": "#%% md\n"
    }
   }
  },
  {
   "cell_type": "code",
   "execution_count": 13,
   "outputs": [
    {
     "name": "stdout",
     "output_type": "stream",
     "text": [
      "Returns itself: True\n",
      "Contract status: False\n"
     ]
    }
   ],
   "source": [
    "print('Returns itself: {}'.format(a_municipality == a_municipality.request_offer(10)))\n",
    "print('Contract status: {}'.format(a_municipality.contract['active']))"
   ],
   "metadata": {
    "collapsed": false,
    "pycharm": {
     "name": "#%%\n"
    }
   }
  },
  {
   "cell_type": "markdown",
   "source": [
    "The last function to be checked in this step is receive_funding. Other functions involve either other\n",
    "agents or were used for internal testing. receive_funding adds a specific amount of money per household to\n",
    "budget_plastic_recycling. The increase rate per household is set to 1. Since there are 30 households in a_municipality, the budget should increase by 30.\n"
   ],
   "metadata": {
    "collapsed": false,
    "pycharm": {
     "name": "#%% md\n"
    }
   }
  },
  {
   "cell_type": "code",
   "execution_count": 14,
   "outputs": [
    {
     "name": "stdout",
     "output_type": "stream",
     "text": [
      "Difference between old and new budget: 30\n"
     ]
    }
   ],
   "source": [
    "old_budget = a_municipality.budget_plastic_recycling\n",
    "a_municipality.receive_funding(1)\n",
    "new_budget = a_municipality.budget_plastic_recycling\n",
    "\n",
    "print('Difference between old and new budget: {}'.format(new_budget - old_budget))"
   ],
   "metadata": {
    "collapsed": false,
    "pycharm": {
     "name": "#%%\n"
    }
   }
  },
  {
   "cell_type": "markdown",
   "source": [
    "### 1.3 Recycling company\n",
    "Firstly, the recycling company is initialized and it is checked\n",
    " whether the initialization is correct."
   ],
   "metadata": {
    "collapsed": false,
    "pycharm": {
     "name": "#%% md\n"
    }
   }
  },
  {
   "cell_type": "code",
   "execution_count": 15,
   "outputs": [
    {
     "name": "stdout",
     "output_type": "stream",
     "text": [
      "ID: R1\n",
      "Price: 10\n",
      "Initial money: 100000\n",
      "Initial efficiency: 0.5\n",
      "Operationa_cost: 100\n",
      "Investing_threshold: 0.8\n"
     ]
    }
   ],
   "source": [
    "unique_id = \"R1\"\n",
    "model = None\n",
    "initial_money = 100000\n",
    "initial_efficiency = 0.5\n",
    "price = 10\n",
    "operational_cost = 100\n",
    "investing_threshold = 0.8\n",
    "\n",
    "a_recycling_company = RecyclingCompany(unique_id, model, initial_money, initial_efficiency, price,\n",
    "                                       operational_cost, investing_threshold)\n",
    "\n",
    "print('ID: {}'.format(a_recycling_company.unique_id))\n",
    "print('Price: {}'.format(a_recycling_company.price))\n",
    "print('Initial money: {}'.format(a_recycling_company.budget))\n",
    "print('Initial efficiency: {}'.format(a_recycling_company.efficiency))\n",
    "print('Operationa_cost: {}'.format(a_recycling_company.opex))\n",
    "print('Investing_threshold: {}'.format(a_recycling_company.investing_threshold))"
   ],
   "metadata": {
    "collapsed": false,
    "pycharm": {
     "name": "#%%\n"
    }
   }
  },
  {
   "cell_type": "markdown",
   "source": [
    "The only function which does not concern either other agents or the environment is the new_tech\n",
    "function. Based on the budget, the investment threshold, and an element of randomness, the company will\n",
    "invest in a new technology. Because of the element of randomness, the function needs\n",
    "to be tested in a while loop. The investment will change the efficiency, the price, the budget,\n",
    "the operational costs, and it will delete the used technology from the available technologies.\n"
   ],
   "metadata": {
    "collapsed": false,
    "pycharm": {
     "name": "#%% md\n"
    }
   }
  },
  {
   "cell_type": "code",
   "execution_count": 16,
   "outputs": [
    {
     "name": "stdout",
     "output_type": "stream",
     "text": [
      "Before investing:\n",
      "Price: 10\n",
      "Budget: 100000\n",
      "Efficiency: 0.5\n",
      "Operational cost: 100\n",
      "Available technologies: ((0.15, 0.15, 80000, 20), (0.06, 0.1, 50000, 15), (0.03, 0.08, 30000, 10))\n",
      "\n",
      "After investing:\n",
      "Price: 11.5\n",
      "Budget: 20000\n",
      "Efficiency: 0.65\n",
      "Operational cost: 120\n",
      "Available technologies: ((0.06, 0.1, 50000, 15), (0.03, 0.08, 30000, 10))\n"
     ]
    }
   ],
   "source": [
    "print('Before investing:')\n",
    "print('Price: {}'.format(a_recycling_company.price))\n",
    "print('Budget: {}'.format(a_recycling_company.budget))\n",
    "print('Efficiency: {}'.format(a_recycling_company.efficiency))\n",
    "print('Operational cost: {}'.format(a_recycling_company.opex))\n",
    "print('Available technologies: {}'.format(a_recycling_company.all_tech))\n",
    "\n",
    "start_efficiency = a_recycling_company.efficiency\n",
    "while start_efficiency == a_recycling_company.efficiency:\n",
    "    a_recycling_company.new_tech()\n",
    "\n",
    "print('')\n",
    "print('After investing:')\n",
    "print('Price: {}'.format(a_recycling_company.price))\n",
    "print('Budget: {}'.format(a_recycling_company.budget))\n",
    "print('Efficiency: {}'.format(a_recycling_company.efficiency))\n",
    "print('Operational cost: {}'.format(a_recycling_company.opex))\n",
    "print('Available technologies: {}'.format(a_recycling_company.all_tech))"
   ],
   "metadata": {
    "collapsed": false,
    "pycharm": {
     "name": "#%%\n"
    }
   }
  },
  {
   "cell_type": "markdown",
   "source": [
    "The new_tech function works as it is supposed to do."
   ],
   "metadata": {
    "collapsed": false,
    "pycharm": {
     "name": "#%% md\n"
    }
   }
  },
  {
   "cell_type": "markdown",
   "source": [
    "## 2. Single-agent Testing\n",
    "In this section, the single agents are tested using inputs at the end of their possible range.\n",
    "This way the sanity of the agent implementation is supposed to be insured.\n",
    "### 2.1 Household\n",
    "\n",
    "The sanity of the in and outputs was proven to an extent in the previous section.\n",
    "The household only receive\n",
    "the tick as an external value. The only thing requiring further insurance is that\n",
    " the base waste does not go below 0 within the regarded timeframe which is two years (240 ticks).\n"
   ],
   "metadata": {
    "collapsed": false,
    "pycharm": {
     "name": "#%% md\n"
    }
   }
  },
  {
   "cell_type": "code",
   "execution_count": 17,
   "outputs": [
    {
     "name": "stdout",
     "output_type": "stream",
     "text": [
      "Single household basewaste at tick 240: 30.37697366403319\n"
     ]
    }
   ],
   "source": [
    "single_household.calc_base_waste(240)\n",
    "print('Single household basewaste at tick 240: {}'.format(single_household.base_waste))"
   ],
   "metadata": {
    "collapsed": false,
    "pycharm": {
     "name": "#%%\n"
    }
   }
  },
  {
   "cell_type": "markdown",
   "source": [
    "### 2.2 Municipality\n",
    "As for the households, there are few inputs which can be extreme or infeasible. Further, the sanity was sufficiently\n",
    "proven in the previous section. In case the model should be applied to real size municipalities entailing\n",
    "thousands of households, it might be interesting whether the implementation can handle this."
   ],
   "metadata": {
    "collapsed": false,
    "pycharm": {
     "name": "#%% md\n"
    }
   }
  },
  {
   "cell_type": "code",
   "execution_count": 18,
   "outputs": [
    {
     "name": "stdout",
     "output_type": "stream",
     "text": [
      "Single person households: 10000\n",
      "Mulitple person househould: 20000\n"
     ]
    }
   ],
   "source": [
    "unique_id = 'M1'\n",
    "model = None\n",
    "population_distribution = [10000, 20000] # single households, family_households\n",
    "initial_recycling_budget = 1000\n",
    "recycling_target = 0.40\n",
    "priority_price_over_recycling = 0.1\n",
    "\n",
    "\n",
    "\n",
    "a_municipality = Municipality(unique_id, model, True, population_distribution, initial_recycling_budget,\n",
    "                              recycling_target, priority_price_over_recycling)\n",
    "\n",
    "single_count = 0\n",
    "multi_count = 0\n",
    "for i in range(len(a_municipality.households)):\n",
    "    if a_municipality.households[i].type == 'one_person':\n",
    "        single_count +=1\n",
    "    elif a_municipality.households[i].type == 'multi_person':\n",
    "        multi_count += 1\n",
    "\n",
    "print('Single person households: {}'.format(single_count))\n",
    "print('Mulitple person househould: {}'.format(multi_count))"
   ],
   "metadata": {
    "collapsed": false,
    "pycharm": {
     "name": "#%%\n"
    }
   }
  },
  {
   "cell_type": "markdown",
   "source": [
    "Apparently, the class can handle large quantities of households.\n",
    "\n",
    "### 2.3 Recycling company\n",
    "The functions in the class recycling company which concern only the class itself perform sanely and cannot be put to the\n",
    "extreme.\n",
    "\n",
    "## 3. Interaction testing in minimal model\n",
    "\n",
    "In order to check the interactions between the agents, a model with one municipality entailing one single household and one\n",
    "multiple person household, and one recycling company is initialized. After this, each section of the model’s step\n",
    "function is executed externally (by replacing self. with test_model.) and it will be checked whether required actions\n",
    "were executed as expected.\n"
   ],
   "metadata": {
    "collapsed": false,
    "pycharm": {
     "name": "#%% md\n"
    }
   }
  },
  {
   "cell_type": "code",
   "execution_count": 19,
   "outputs": [
    {
     "name": "stdout",
     "output_type": "stream",
     "text": [
      "Recycling companies: [<RecyclingCompany.RecyclingCompany object at 0x000001FBB53E8220>]\n",
      "Municipalities: [<Municipality.Municipality object at 0x000001FBB53E8280>]\n",
      "Households: [<Household.Household object at 0x000001FBB53E8790>, <Household.Household object at 0x000001FBB53E87F0>]\n"
     ]
    }
   ],
   "source": [
    "# the following list represent\n",
    "# [number_id, home_collection,\n",
    "# population_distribution,\n",
    "# budget_plastic_recycling,\n",
    "# recycling_target,\n",
    "# priority_price_over_recycling]\n",
    "\n",
    "defined_municipalities = [[1, False, [1, 1], 1000, 0.65, 1]]\n",
    "\n",
    "test_model = ABM_model(defined_municipalities, n_recycling_companies= 1, funding_municipalities= 50,\n",
    "                  improving_tech_recycling_company= True)\n",
    "\n",
    "print('Recycling companies: {}'.format(test_model.recycling_companies))\n",
    "print('Municipalities: {}'.format(test_model.municipalities))\n",
    "print('Households: {}'.format(test_model.households))\n"
   ],
   "metadata": {
    "collapsed": false,
    "pycharm": {
     "name": "#%%\n"
    }
   }
  },
  {
   "cell_type": "markdown",
   "source": [
    "The first chunk of the step supplies the municipality with its yearly funding, makes\n",
    "the households produce waste, which is then accounted for by the total potential plastic waste\n",
    "counter and the actual plastic waste counter."
   ],
   "metadata": {
    "collapsed": false,
    "pycharm": {
     "name": "#%% md\n"
    }
   }
  },
  {
   "cell_type": "code",
   "execution_count": 20,
   "outputs": [
    {
     "name": "stdout",
     "output_type": "stream",
     "text": [
      "Before step chunk:\n",
      "Municipality budget: 100\n",
      "The rest of the relevant variables are set to zero at the beginning of the chunk.\n",
      "\n",
      "After step chunk:\n",
      "Municipality budget: 200\n",
      "Total potential plastic waste: 30.8\n",
      "Total collected plastic waste: 7.7\n"
     ]
    }
   ],
   "source": [
    "import random\n",
    "print('Before step chunk:')\n",
    "print('Municipality budget: {}'.format(test_model.municipalities[0].budget_plastic_recycling))\n",
    "print('The rest of the relevant variables are set to zero at the beginning of the chunk.')\n",
    "\n",
    "# reset counters\n",
    "test_model.total_potential_plastic_waste = 0\n",
    "test_model.total_plastic_waste = 0\n",
    "test_model.total_recycled_plastic = 0\n",
    "\n",
    "# iterate in random order over municipalities to establish order\n",
    "municipalities_index_list = list(range(len(test_model.municipalities)))\n",
    "random.shuffle(municipalities_index_list)\n",
    "\n",
    "# municipalities receive funding if it is the start of the year\n",
    "if test_model.tick%12 == 0:\n",
    "    for municipality in test_model.municipalities:\n",
    "        municipality.receive_funding(test_model.funding_municipalities)\n",
    "\n",
    "# households in municipalities produce waste\n",
    "for municipality in test_model.municipalities:\n",
    "    for household in municipality.households:\n",
    "        household.calc_base_waste(test_model.tick)\n",
    "        household.calc_plastic_waste(test_model.tick)\n",
    "\n",
    "        # Add potential_plastic waste to total_potential_plastic waste\n",
    "        test_model.total_potential_plastic_waste += household.potential_plastic_waste\n",
    "        test_model.total_plastic_waste += household.plastic_waste\n",
    "print('')\n",
    "print('After step chunk:')\n",
    "print('Municipality budget: {}'.format(test_model.municipalities[0].budget_plastic_recycling))\n",
    "print('Total potential plastic waste: {}'.format(test_model.total_potential_plastic_waste))\n",
    "print('Total collected plastic waste: {}'.format(test_model.total_plastic_waste))"
   ],
   "metadata": {
    "collapsed": false,
    "pycharm": {
     "name": "#%%\n"
    }
   }
  },
  {
   "cell_type": "markdown",
   "source": [
    "The model and its agents behave as expected. The next code chunk of the step function is responsible for the contract closing between the\n",
    "municipality and the company. Since it is the first step, the municipality needs to close a contract with a\n",
    "recycling company."
   ],
   "metadata": {
    "collapsed": false,
    "pycharm": {
     "name": "#%% md\n"
    }
   }
  },
  {
   "cell_type": "code",
   "execution_count": 21,
   "outputs": [
    {
     "name": "stdout",
     "output_type": "stream",
     "text": [
      "Before step chunk:\n",
      "Contract of municipality\n",
      "{'active': False, 'recycling_company': None, 'recycling_rate': None, 'price': None, 'fee': None, 'expiration_tick': None, 'minimal_plastic_waste_mass': None}\n",
      "\n",
      "After step chunk:\n",
      "Contract of municipality\n",
      "{'active': True, 'recycling_company': <RecyclingCompany.RecyclingCompany object at 0x000001FBB53E8220>, 'recycling_rate': 0.4, 'price': 10, 'fee': 2.0, 'expiration_tick': 23, 'minimal_plastic_waste_mass': 7.623, 'municipality': <Municipality.Municipality object at 0x000001FBB53E8280>}\n"
     ]
    }
   ],
   "source": [
    "print('Before step chunk:')\n",
    "print('Contract of municipality')\n",
    "print(test_model.municipalities[0].contract)\n",
    "# contract closing\n",
    "        # municipalities in need of a new recycling company announce it to the market by requesting an offer\n",
    "for municipality_index in municipalities_index_list:\n",
    "    offer = test_model.municipalities[municipality_index].request_offer(test_model.tick)\n",
    "\n",
    "    if offer != None:\n",
    "        test_model.offer_requests.append(offer)\n",
    "\n",
    "# recycling companies send offers to municipalities\n",
    "for recycling_company in test_model.recycling_companies:\n",
    "    recycling_company.provide_offer(test_model.offer_requests)\n",
    "\n",
    "# municipalities select an offer based on their behavior (select cheapest one for a given recycling rate)\n",
    "for municipality in test_model.offer_requests:\n",
    "    municipality.select_offer(test_model.tick)\n",
    "\n",
    "# reset offers\n",
    "test_model.offer_requests = []\n",
    "\n",
    "print('')\n",
    "print('After step chunk:')\n",
    "print('Contract of municipality')\n",
    "print(test_model.municipalities[0].contract)"
   ],
   "metadata": {
    "collapsed": false,
    "pycharm": {
     "name": "#%%\n"
    }
   }
  },
  {
   "cell_type": "markdown",
   "source": [
    "The municipality finds the recycling company and closes a contract with it. In the following code chunk the\n",
    "municipality collects the waste from the household and passes it to the recycling company.\n",
    "It is then checked whether the municipality delivered a sufficient quantity of plastic waste and pays a\n",
    "fee if not. The municipality pays for the waste, and the recycling company sells the plastic they\n",
    "could recycle."
   ],
   "metadata": {
    "collapsed": false,
    "pycharm": {
     "name": "#%% md\n"
    }
   }
  },
  {
   "cell_type": "code",
   "execution_count": 22,
   "outputs": [
    {
     "name": "stdout",
     "output_type": "stream",
     "text": [
      "Before step chunk:\n",
      "Total recycled plastic: 0\n",
      "Budget municipality: 200\n",
      "Budget recycling company: 0\n",
      "The municipality did not have to pay a fee\n",
      "After step chunk:\n",
      "Total recycled plastic: 3.08\n",
      "Budget municipality: 123.0\n",
      "Budget recycling company: -18.38\n"
     ]
    }
   ],
   "source": [
    "print('Before step chunk:')\n",
    "print('Total recycled plastic: {}'.format(test_model.total_recycled_plastic))\n",
    "print('Budget municipality: {}'.format(test_model.municipalities[0].budget_plastic_recycling))\n",
    "print('Budget recycling company: {}'.format(test_model.recycling_companies[0].budget))\n",
    "\n",
    "for municipality in test_model.municipalities:\n",
    "        municipality.plastic_waste = 0\n",
    "        for household in municipality.households:\n",
    "            municipality.plastic_waste += household.plastic_waste\n",
    "        # mass of plastic whichis recycled by the recycling company is calculated here\n",
    "        municipality.recyclable = municipality.plastic_waste * municipality.contract['recycling_rate']\n",
    "\n",
    "        # add mass mass of recycled plastic to total_recycled_plastic\n",
    "        test_model.total_recycled_plastic += municipality.recyclable\n",
    "\n",
    "\n",
    "# check contract conditions - has municipality delivered enough plastic waste, etc.?\n",
    "for municipality in test_model.municipalities:\n",
    "    # 1: municipality pays for waste processing\n",
    "    municipality.budget_plastic_recycling -= municipality.contract['price'] * municipality.plastic_waste\n",
    "\n",
    "    # 2: recycling company gets paid for waste processing\n",
    "    municipality.contract['recycling_company'].budget += municipality.contract['price'] * municipality.plastic_waste\n",
    "    municipality.contract['recycling_company'].budget -= municipality.contract['recycling_company'].opex\n",
    "\n",
    "    # 3: recycling company gets paid fee, in case the municipality did not deliver enough waste\n",
    "    if municipality.plastic_waste < municipality.contract['minimal_plastic_waste_mass']:\n",
    "        # 3.1 the mass off the missing waste is calculated\n",
    "        missing_waste = municipality.contract['minimal_plastic_waste_mass'] - municipality.plastic_waste\n",
    "\n",
    "        # 3.2: municipality pays fee\n",
    "        municipality.budget_plastic_recycling -= municipality.contract['fee'] * missing_waste\n",
    "\n",
    "        # 3.3: recycling company gets paid the fee\n",
    "        municipality.contract['recycling_company'].budget += municipality.contract['fee'] * missing_waste\n",
    "\n",
    "        test_model.debug_count_fee += 1\n",
    "        print('The municipality had to pay a fee')\n",
    "    else:\n",
    "        print('The municipality did not have to pay a fee')\n",
    "\n",
    "    # 4: recycling company gets paid for sold recycled waste\n",
    "    municipality.contract['recycling_company'].budget += (municipality.recyclable)*1.5 # 1.5 is the price per kg a company can sell\n",
    "\n",
    "print('After step chunk:')\n",
    "print('Total recycled plastic: {}'.format(test_model.total_recycled_plastic))\n",
    "print('Budget municipality: {}'.format(test_model.municipalities[0].budget_plastic_recycling))\n",
    "print('Budget recycling company: {}'.format(test_model.recycling_companies[0].budget))"
   ],
   "metadata": {
    "collapsed": false,
    "pycharm": {
     "name": "#%%\n"
    }
   }
  },
  {
   "cell_type": "markdown",
   "source": [
    "The model performs as expected. The budget of the recycling company is negative since the operating costs are too high to treat only the waste of two households.\n",
    "The following code chunk performs the policy measures. To see how they work, all if statements except the first\n",
    "one will be set to True.\n"
   ],
   "metadata": {
    "collapsed": false,
    "pycharm": {
     "name": "#%% md\n"
    }
   }
  },
  {
   "cell_type": "code",
   "execution_count": 23,
   "outputs": [
    {
     "name": "stdout",
     "output_type": "stream",
     "text": [
      "Before step chunk:\n",
      "Knowledge of Household: 0.5\n",
      "Perception of Household: 0.5\n",
      "\n",
      "After reverse colletion introduction\n",
      "Knowledge of Household: 0.4\n",
      "Perception of Household: 0.7\n",
      "\n",
      "After education\n",
      "Knowledge of Household: 0.5\n",
      "Perception of Household: 0.7999999999999999\n",
      "\n",
      "After container labeling\n",
      "Knowledge of Household: 0.6\n",
      "Perception of Household: 0.7999999999999999\n"
     ]
    }
   ],
   "source": [
    "print('Before step chunk:')\n",
    "print('Knowledge of Household: {}'.format(test_model.households[0].knowledge))\n",
    "print('Perception of Household: {}'.format(test_model.households[0].perception))\n",
    "\n",
    "for municipality in test_model.municipalities:\n",
    "    if test_model.tick != 0:\n",
    "        municipality.do_outreach('stay')\n",
    "    # Reverse collection\n",
    "    if True:\n",
    "        if True: # if tick equals tick to introduce the policy\n",
    "            municipality.do_outreach('reverse_waste_collection')\n",
    "    print('')\n",
    "    print('After reverse colletion introduction')\n",
    "    print('Knowledge of Household: {}'.format(test_model.households[0].knowledge))\n",
    "    print('Perception of Household: {}'.format(test_model.households[0].perception))\n",
    "\n",
    "    # Education\n",
    "    if True:\n",
    "        if True: # if education is supposed to happen in this step\n",
    "            municipality.do_outreach('education')\n",
    "    print('')\n",
    "    print('After education')\n",
    "    print('Knowledge of Household: {}'.format(test_model.households[0].knowledge))\n",
    "    print('Perception of Household: {}'.format(test_model.households[0].perception))\n",
    "\n",
    "    # Container labeling\n",
    "    if True:\n",
    "        if True: # if it is the step in which container labeling should be introduced\n",
    "            municipality.do_outreach('container_labeling')\n",
    "    print('')\n",
    "    print('After container labeling')\n",
    "    print('Knowledge of Household: {}'.format(test_model.households[0].knowledge))\n",
    "    print('Perception of Household: {}'.format(test_model.households[0].perception))"
   ],
   "metadata": {
    "collapsed": false,
    "pycharm": {
     "name": "#%%\n"
    }
   }
  },
  {
   "cell_type": "markdown",
   "source": [
    "Knowledge and perception change correctly. Reverse collection is supposed to decrease knowledge and to increase\n",
    "perception. Education is supposed to increase both, and container labeling is supposed to only increase knowledge.\n",
    "The last chunk of the step iterates over the recycling companies and calls new_tech(), so the\n",
    "companies potentially invest in new technology. The functionality of this method was proven\n",
    "above.\n"
   ],
   "metadata": {
    "collapsed": false,
    "pycharm": {
     "name": "#%% md\n"
    }
   }
  },
  {
   "cell_type": "code",
   "execution_count": 24,
   "outputs": [],
   "source": [
    "if test_model.improving_tech_recycling_company:\n",
    "    for recycling_company in test_model.recycling_companies:\n",
    "        recycling_company.new_tech()"
   ],
   "metadata": {
    "collapsed": false,
    "pycharm": {
     "name": "#%%\n"
    }
   }
  },
  {
   "cell_type": "markdown",
   "source": [
    "It can be concluded, that agents find each other and that interactions create correct results.\n",
    "Unidentified interactions could not be found. Looking at the inputs possible\n",
    "in the single agent model, there are no potential extreme values to be tested.\n",
    "The fact that recycling companies make a loss if they have only two households supplying\n",
    "waste was a new finding though.\n",
    "\n",
    "\n",
    "## 4. Multi-agent Testing\n",
    "The basic functionality of the model has been proven by the previous points. The\n",
    "most critical aspect which is not sufficiently covered by the tests above is\n",
    "whether municipalities close new contracts with other recycling companies when\n",
    "their contract expires. Proving this will serve as an exemplary investigation to be performed\n",
    " for multi-agent testing. To do so, a model with 10 municipalities and 5 recycling\n",
    "companies is run for 240 steps. It will be checked, whether some municipalities\n",
    "switched companies by looking at the matches after the first and the last step."
   ],
   "metadata": {
    "collapsed": false,
    "pycharm": {
     "name": "#%% md\n"
    }
   }
  },
  {
   "cell_type": "code",
   "execution_count": 25,
   "outputs": [
    {
     "name": "stdout",
     "output_type": "stream",
     "text": [
      "ID of matched recycling company in the beginning:\n",
      "['R_3', 'R_0', 'R_4', 'R_1', 'R_1', 'R_4', 'R_3', 'R_1', 'R_3', 'R_2']\n",
      "\n",
      "ID of matched recycling company in the end:\n",
      "['R_4', 'R_1', 'R_4', 'R_3', 'R_4', 'R_1', 'R_2', 'R_3', 'R_2', 'R_0']\n",
      "\n",
      "Vector showing whether the recycling company stayed the same for each municipality:\n",
      "[False, False, True, False, False, False, False, False, False, False]\n"
     ]
    }
   ],
   "source": [
    "defined_municipalities = [[1, True, [54, 54], 96,  0.5, 1],\n",
    "                          [2, False, [32, 24], 123, 0.6, 0.1],\n",
    "                          [3, False, [7, 14], 126, 0.6, 0.2],\n",
    "                          [4, True, [60, 30], 107, 0.7, 0.5],\n",
    "                          [5, True, [10, 1], 136, 0.6, 0.2],\n",
    "                          [6, False, [64, 32], 109, 0.4, 0.7],\n",
    "                          [7, False, [39, 39], 96, 0.7, 0.3],\n",
    "                          [8, True, [14, 21], 70, 0.5, 0.6],\n",
    "                          [9, False, [36, 27], 106, 0.5, 0.5],\n",
    "                          [10, True, [21, 21], 120, 0.6, 0.4]]\n",
    "\n",
    "test_model_2 = ABM_model(defined_municipalities, n_recycling_companies= 5, funding_municipalities= 50,\n",
    "                  improving_tech_recycling_company= True)\n",
    "\n",
    "# doing fist step\n",
    "test_model_2.step()\n",
    "\n",
    "print('ID of matched recycling company in the beginning:')\n",
    "print([municipality.contract['recycling_company'].id for municipality in test_model_2.municipalities])\n",
    "\n",
    "recycling_company_matches_start = [municipality.contract['recycling_company'] for municipality in test_model_2.municipalities]\n",
    "\n",
    "# doing 239 steps\n",
    "for i in range(239):\n",
    "    test_model_2.step()\n",
    "\n",
    "recycling_company_matches_end = [municipality.contract['recycling_company'] for municipality in test_model_2.municipalities]\n",
    "\n",
    "equal_to_start = [start == end for start, end in zip(recycling_company_matches_start, recycling_company_matches_end)]\n",
    "\n",
    "print('')\n",
    "print('ID of matched recycling company in the end:')\n",
    "print([municipality.contract['recycling_company'].id for municipality in test_model_2.municipalities])\n",
    "print('')\n",
    "print('Vector showing whether the recycling company stayed the same for each municipality:')\n",
    "print(equal_to_start)"
   ],
   "metadata": {
    "collapsed": false,
    "pycharm": {
     "name": "#%%\n"
    }
   }
  },
  {
   "cell_type": "markdown",
   "source": [
    "As one can see, some municipalities switched recycling companies and some did not (it is also possible that\n",
    "they switched and switched back). Hence, it is concluded that the mechanism to close and end contracts\n",
    "between municipalities and recycling companies is working correctly. <br>\n",
    "Another verification method within the multi-agent testing is to conduct variability tests. This is done\n",
    "extensively in the sensitivity analysis which therefore supplements this verification.\n"
   ],
   "metadata": {
    "collapsed": false,
    "pycharm": {
     "name": "#%% md\n"
    }
   }
  }
 ],
 "metadata": {
  "kernelspec": {
   "name": "pycharm-c37fe983",
   "language": "python",
   "display_name": "PyCharm (ABM_Assignment)"
  },
  "language_info": {
   "codemirror_mode": {
    "name": "ipython",
    "version": 2
   },
   "file_extension": ".py",
   "mimetype": "text/x-python",
   "name": "python",
   "nbconvert_exporter": "python",
   "pygments_lexer": "ipython2",
   "version": "2.7.6"
  }
 },
 "nbformat": 4,
 "nbformat_minor": 0
}